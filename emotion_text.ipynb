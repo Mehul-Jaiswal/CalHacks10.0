{
 "cells": [
  {
   "cell_type": "code",
   "execution_count": 1,
   "id": "34df1a71-9b00-4b93-989b-b18a5819f8c8",
   "metadata": {},
   "outputs": [],
   "source": [
    "import asyncio\n",
    "import time\n",
    "import traceback\n",
    "import json\n",
    "\n",
    "from hume import HumeStreamClient\n",
    "from hume.models.config import LanguageConfig"
   ]
  },
  {
   "cell_type": "code",
   "execution_count": 2,
   "id": "a70e0a73-e463-4927-b01b-030633fd67c8",
   "metadata": {},
   "outputs": [],
   "source": [
    "from typing import Any, Dict, List\n",
    "\n",
    "\n",
    "def print_emotions(emotions: List[Dict[str, Any]]) -> None:\n",
    "    emotion_map = {e[\"name\"]: e[\"score\"] for e in emotions}\n",
    "    for emotion in [\"Joy\", \"Sadness\", \"Anger\"]:\n",
    "        print(f\"- {emotion}: {emotion_map[emotion]:4f}\")"
   ]
  },
  {
   "cell_type": "code",
   "execution_count": 5,
   "id": "70321217-fc13-48e0-9f0d-71ddb3391987",
   "metadata": {},
   "outputs": [],
   "source": [
    "text_stream = \"I am feeling very happy today. I am so excited to be here. I am feeling very sad today. I am so depressed to be here. I am feeling very angry today. I am so mad to be here.\""
   ]
  },
  {
   "cell_type": "code",
   "execution_count": 7,
   "id": "936ad16b-ea27-4660-99c0-c5f051530563",
   "metadata": {},
   "outputs": [
    {
     "data": {
      "text/plain": [
       "<Task pending name='Task-13' coro=<main() running at <ipython-input-7-3d209a7527e9>:3>>"
      ]
     },
     "execution_count": 7,
     "metadata": {},
     "output_type": "execute_result"
    },
    {
     "name": "stdout",
     "output_type": "stream",
     "text": [
      "\n",
      "I am feeling very happy today. I am so excited to be here. I am feeling very sad today. I am so depressed to be here. I am feeling very angry today. I am so mad to be here.\n",
      "- Joy: 0.868028\n",
      "- Sadness: 0.000832\n",
      "- Anger: 0.001332\n"
     ]
    }
   ],
   "source": [
    "text_sample = text_stream\n",
    "\n",
    "async def main():\n",
    "    try:\n",
    "        client = HumeStreamClient(\"EbATLlzvw9OCziDcIGrA4gH50gSjFPpuvSxm0TPbaiS6cnSm\")\n",
    "        config = LanguageConfig(granularity=\"sentence\")\n",
    "        async with client.connect([config]) as socket:\n",
    "            result = await socket.send_text(text_sample)\n",
    "            emotions = result[\"language\"][\"predictions\"][0][\"emotions\"]\n",
    "            print(f\"\\n{text_sample}\")\n",
    "            print_emotions(emotions)\n",
    "            data = {\n",
    "                \"text_sample\": text_sample,\n",
    "                \"emotions\": {e[\"name\"]: e[\"score\"] for e in emotions if e[\"name\"] in [\"Joy\", \"Sadness\", \"Anger\"]}\n",
    "            }\n",
    "\n",
    "            # Save the data to a JSON file\n",
    "            with open(\"score.json\", \"w\") as json_file:\n",
    "                json.dump(data, json_file, indent=4)\n",
    "    except Exception:\n",
    "        print(traceback.format_exc())\n",
    "\n",
    "loop = asyncio.get_event_loop()\n",
    "loop.create_task(main())"
   ]
  },
  {
   "cell_type": "code",
   "execution_count": null,
   "id": "06ff5956-3a27-4752-bb5b-98f2129253ac",
   "metadata": {},
   "outputs": [],
   "source": []
  }
 ],
 "metadata": {
  "kernelspec": {
   "display_name": "Python 3",
   "language": "python",
   "name": "python3"
  },
  "language_info": {
   "codemirror_mode": {
    "name": "ipython",
    "version": 3
   },
   "file_extension": ".py",
   "mimetype": "text/x-python",
   "name": "python",
   "nbconvert_exporter": "python",
   "pygments_lexer": "ipython3",
   "version": "3.9.18"
  }
 },
 "nbformat": 4,
 "nbformat_minor": 5
}
